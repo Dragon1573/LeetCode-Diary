{
 "cells": [
  {
   "cell_type": "markdown",
   "metadata": {},
   "source": [
    "# 第35题 - 搜索插入位置\n",
    "\n",
    "![难度：简单](https://img.shields.io/badge/%E9%9A%BE%E5%BA%A6-%E7%AE%80%E5%8D%95-blue)\n",
    "[![来源：LeetCode](https://img.shields.io/badge/来源-LeetCode_No.35-blue)](https://leetcode-cn.com/problems/search-insert-position/)\n",
    "\n",
    "给定一个排序数组和一个目标值，在数组中找到目标值，并返回其索引。如果目标值不存在于数组中，返回它将会被按顺序插入的位置。\n",
    "\n",
    "请必须使用时间复杂度为 $O(\\log n)$ 的算法。\n"
   ]
  },
  {
   "cell_type": "markdown",
   "metadata": {},
   "source": [
    "## 提示\n",
    "\n",
    "- $1 \\le \\text{nums.length} \\le 10^4$\n",
    "- $-10^4 \\le \\text{nums[i]} \\le 10^4$\n",
    "- `nums` 是不重复的升序数组\n",
    "- $-10^4 \\le \\text{target} \\le 10^4$"
   ]
  },
  {
   "cell_type": "markdown",
   "metadata": {},
   "source": [
    "## 题解"
   ]
  },
  {
   "cell_type": "code",
   "execution_count": 1,
   "metadata": {},
   "outputs": [],
   "source": [
    "from typing import List\n",
    "\n",
    "\n",
    "class Solution:\n",
    "    def searchInsert(self, nums: List[int], target: int) -> int:\n",
    "        left, right = 0, len(nums) - 1\n",
    "        while left < right:\n",
    "            middle = left + (right - left) // 2\n",
    "            if target == nums[middle]:\n",
    "                return middle\n",
    "            elif target < nums[middle]:\n",
    "                right = middle\n",
    "            else:\n",
    "                left = middle + 1\n",
    "        return left + 1 if target > nums[left] else left"
   ]
  },
  {
   "cell_type": "markdown",
   "metadata": {},
   "source": [
    "## 示例"
   ]
  },
  {
   "cell_type": "code",
   "execution_count": 2,
   "metadata": {},
   "outputs": [
    {
     "name": "stdout",
     "output_type": "stream",
     "text": [
      "2\n",
      "1\n",
      "4\n",
      "0\n",
      "0\n"
     ]
    }
   ],
   "source": [
    "s = Solution()\n",
    "# 应该为 2\n",
    "print(s.searchInsert([1, 3, 5, 6], 5))\n",
    "# 应该为 1\n",
    "print(s.searchInsert([1, 3, 5, 6], 2))\n",
    "# 应该为 4\n",
    "print(s.searchInsert([1, 3, 5, 6], 7))\n",
    "# 应该为 0\n",
    "print(s.searchInsert([1, 3, 5, 6], 0))\n",
    "# 应该为 0\n",
    "print(s.searchInsert([1], 0))"
   ]
  }
 ],
 "metadata": {
  "interpreter": {
   "hash": "42e6892a63f62a13cfede7edc2d0d7d4587d511dd59e5babedf721473c5b82e8"
  },
  "kernelspec": {
   "display_name": "Python 3.7.11 64-bit ('base': conda)",
   "language": "python",
   "name": "python3"
  },
  "language_info": {
   "codemirror_mode": {
    "name": "ipython",
    "version": 3
   },
   "file_extension": ".py",
   "mimetype": "text/x-python",
   "name": "python",
   "nbconvert_exporter": "python",
   "pygments_lexer": "ipython3",
   "version": "3.7.11"
  },
  "orig_nbformat": 4
 },
 "nbformat": 4,
 "nbformat_minor": 2
}
