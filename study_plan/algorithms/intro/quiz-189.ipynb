{
 "cells": [
  {
   "cell_type": "markdown",
   "id": "b0b302be",
   "metadata": {
    "toc": true
   },
   "source": [
    "<h1>目录<span class=\"tocSkip\"></span></h1>\n",
    "<div class=\"toc\"><ul class=\"toc-item\"><li><span><a href=\"#原题\" data-toc-modified-id=\"原题-1\">原题</a></span></li><li><span><a href=\"#提示\" data-toc-modified-id=\"提示-2\">提示</a></span></li><li><span><a href=\"#【方法一】环状替换法\" data-toc-modified-id=\"【方法一】环状替换法-3\">【方法一】环状替换法</a></span><ul class=\"toc-item\"><li><span><a href=\"#题解\" data-toc-modified-id=\"题解-3.1\">题解</a></span></li><li><span><a href=\"#示例\" data-toc-modified-id=\"示例-3.2\">示例</a></span></li></ul></li><li><span><a href=\"#【方法二】数组翻转法\" data-toc-modified-id=\"【方法二】数组翻转法-4\">【方法二】数组翻转法</a></span><ul class=\"toc-item\"><li><span><a href=\"#题解\" data-toc-modified-id=\"题解-4.1\">题解</a></span></li><li><span><a href=\"#示例\" data-toc-modified-id=\"示例-4.2\">示例</a></span></li></ul></li></ul></div>"
   ]
  },
  {
   "cell_type": "markdown",
   "id": "fa091c88",
   "metadata": {},
   "source": [
    "*****\n",
    "\n",
    "# 第189题 - 轮转数组\n",
    "\n",
    "![难度：中等](https://img.shields.io/badge/%E9%9A%BE%E5%BA%A6-%E7%AE%80%E5%8D%95-blue)\n",
    "[![来源：LeetCode](https://img.shields.io/badge/来源-LeetCode_No.189-blue)](https://leetcode-cn.com/problems/rotate-array/)"
   ]
  },
  {
   "cell_type": "markdown",
   "id": "fe9d5b07",
   "metadata": {},
   "source": [
    "## 原题\n",
    "\n",
    "给你一个数组，将数组中的元素向右轮转 $k$ 个位置，其中 $k$ 是非负数。要求目标算法是 **原地** 算法，且空间复杂度为 $O(1)$ 。"
   ]
  },
  {
   "attachments": {},
   "cell_type": "markdown",
   "id": "2deb98df",
   "metadata": {},
   "source": [
    "## 提示\n",
    "\n",
    "- $1 \\le \\text{nums.length} \\le 10^5$\n",
    "- $-2^{31} \\le \\text{nums[i]} \\le 2^{31} - 1$\n",
    "- $0 \\le k \\le 10^5$"
   ]
  },
  {
   "cell_type": "markdown",
   "id": "cb88d887",
   "metadata": {},
   "source": [
    "## 【方法一】环状替换法\n",
    "\n",
    "所有元素只会被遍历一次，时间复杂度为 $O(n)$ 。"
   ]
  },
  {
   "cell_type": "markdown",
   "id": "8dc6e1b0",
   "metadata": {},
   "source": [
    "### 题解"
   ]
  },
  {
   "cell_type": "code",
   "execution_count": 1,
   "id": "8f5f4f30",
   "metadata": {
    "ExecuteTime": {
     "end_time": "2021-12-30T08:23:22.992350Z",
     "start_time": "2021-12-30T08:23:22.979335Z"
    }
   },
   "outputs": [],
   "source": [
    "from typing import List\n",
    "from math import gcd\n",
    "\n",
    "\n",
    "class Solution:\n",
    "    def rotate(self, nums: List[int], k: int) -> None:\n",
    "        \"\"\"\n",
    "        Do not return anything, modify nums in-place instead.\n",
    "        \"\"\"\n",
    "        n = len(nums)\n",
    "        # 计算等价移动（k 可能大于 n）\n",
    "        k %= n\n",
    "        # 可能形成的不交叉替换环数量\n",
    "        count = gcd(k, n)\n",
    "        for _ in range(count):\n",
    "            current = _\n",
    "            prev = nums[_]\n",
    "            ### Python 没有 do-while 结构 ###\n",
    "            next_ = (current + k) % n\n",
    "            nums[next_], prev = prev, nums[next_]\n",
    "            current = next_\n",
    "            while _ != current:\n",
    "                next_ = (current + k) % n\n",
    "                nums[next_], prev = prev, nums[next_]\n",
    "                current = next_"
   ]
  },
  {
   "cell_type": "markdown",
   "id": "6a50f6af",
   "metadata": {},
   "source": [
    "### 示例"
   ]
  },
  {
   "cell_type": "code",
   "execution_count": 2,
   "id": "1cacbad4",
   "metadata": {
    "ExecuteTime": {
     "end_time": "2021-12-30T08:23:23.120352Z",
     "start_time": "2021-12-30T08:23:23.058322Z"
    }
   },
   "outputs": [
    {
     "data": {
      "text/plain": [
       "[5, 6, 7, 1, 2, 3, 4]"
      ]
     },
     "execution_count": 2,
     "metadata": {},
     "output_type": "execute_result"
    }
   ],
   "source": [
    "s = Solution()\n",
    "nums = [1, 2, 3, 4, 5, 6, 7]\n",
    "s.rotate(nums, 3)\n",
    "nums"
   ]
  },
  {
   "cell_type": "code",
   "execution_count": 3,
   "id": "c31db45e",
   "metadata": {
    "ExecuteTime": {
     "end_time": "2021-12-30T08:23:23.200321Z",
     "start_time": "2021-12-30T08:23:23.123346Z"
    }
   },
   "outputs": [
    {
     "data": {
      "text/plain": [
       "[3, 99, -1, -100]"
      ]
     },
     "execution_count": 3,
     "metadata": {},
     "output_type": "execute_result"
    }
   ],
   "source": [
    "s = Solution()\n",
    "nums = [-1, -100, 3, 99]\n",
    "s.rotate(nums, 2)\n",
    "nums"
   ]
  },
  {
   "cell_type": "markdown",
   "id": "8b7294d2",
   "metadata": {},
   "source": [
    "## 【方法二】数组翻转法\n",
    "\n",
    "所有数组将被遍历2次，时间复杂度为 $O(2n) \\sim O(n)$ 。"
   ]
  },
  {
   "cell_type": "markdown",
   "id": "65cfd9ff",
   "metadata": {},
   "source": [
    "### 题解"
   ]
  },
  {
   "cell_type": "code",
   "execution_count": 4,
   "id": "adbe4f83",
   "metadata": {
    "ExecuteTime": {
     "end_time": "2021-12-30T08:23:23.264321Z",
     "start_time": "2021-12-30T08:23:23.243323Z"
    }
   },
   "outputs": [],
   "source": [
    "from typing import List\n",
    "\n",
    "\n",
    "class Solution:\n",
    "    def rotate(self, nums: List[int], k: int) -> None:\n",
    "        \"\"\"\n",
    "        Do not return anything, modify nums in-place instead.\n",
    "        \"\"\"\n",
    "        k %= len(nums)\n",
    "        nums.reverse()\n",
    "        self.reverse(nums, 0, k - 1)\n",
    "        self.reverse(nums, k, len(nums) - 1)\n",
    "        pass\n",
    "    \n",
    "    def reverse(self, nums: List[int], start: int, end: int) -> None:\n",
    "        while start < end:\n",
    "            nums[start], nums[end] = nums[end], nums[start]\n",
    "            start += 1\n",
    "            end -= 1"
   ]
  },
  {
   "cell_type": "markdown",
   "id": "6492a49f",
   "metadata": {},
   "source": [
    "### 示例"
   ]
  },
  {
   "cell_type": "code",
   "execution_count": 5,
   "id": "d824a0e7",
   "metadata": {
    "ExecuteTime": {
     "end_time": "2021-12-30T08:23:23.344354Z",
     "start_time": "2021-12-30T08:23:23.323356Z"
    }
   },
   "outputs": [
    {
     "data": {
      "text/plain": [
       "[5, 6, 7, 1, 2, 3, 4]"
      ]
     },
     "execution_count": 5,
     "metadata": {},
     "output_type": "execute_result"
    }
   ],
   "source": [
    "s = Solution()\n",
    "nums = [1, 2, 3, 4, 5, 6, 7]\n",
    "s.rotate(nums, 3)\n",
    "nums"
   ]
  },
  {
   "cell_type": "code",
   "execution_count": 6,
   "id": "a10f6240",
   "metadata": {
    "ExecuteTime": {
     "end_time": "2021-12-30T08:23:23.408322Z",
     "start_time": "2021-12-30T08:23:23.347330Z"
    }
   },
   "outputs": [
    {
     "data": {
      "text/plain": [
       "[3, 99, -1, -100]"
      ]
     },
     "execution_count": 6,
     "metadata": {},
     "output_type": "execute_result"
    }
   ],
   "source": [
    "s = Solution()\n",
    "nums = [-1, -100, 3, 99]\n",
    "s.rotate(nums, 2)\n",
    "nums"
   ]
  }
 ],
 "metadata": {
  "kernelspec": {
   "display_name": "Python 3 (ipykernel)",
   "language": "python",
   "name": "python3"
  },
  "language_info": {
   "codemirror_mode": {
    "name": "ipython",
    "version": 3
   },
   "file_extension": ".py",
   "mimetype": "text/x-python",
   "name": "python",
   "nbconvert_exporter": "python",
   "pygments_lexer": "ipython3",
   "version": "3.7.11"
  },
  "toc": {
   "base_numbering": 1,
   "nav_menu": {},
   "number_sections": false,
   "sideBar": true,
   "skip_h1_title": true,
   "title_cell": "目录",
   "title_sidebar": "目录",
   "toc_cell": true,
   "toc_position": {},
   "toc_section_display": true,
   "toc_window_display": true
  }
 },
 "nbformat": 4,
 "nbformat_minor": 5
}
