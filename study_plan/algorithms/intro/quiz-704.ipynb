{
 "cells": [
  {
   "cell_type": "markdown",
   "metadata": {
    "toc": true
   },
   "source": [
    "<h1>目录<span class=\"tocSkip\"></span></h1>\n",
    "<div class=\"toc\"><ul class=\"toc-item\"><li><span><a href=\"#提示\" data-toc-modified-id=\"提示-1\">提示</a></span></li><li><span><a href=\"#题解\" data-toc-modified-id=\"题解-2\">题解</a></span></li><li><span><a href=\"#示例\" data-toc-modified-id=\"示例-3\">示例</a></span></li></ul></div>"
   ]
  },
  {
   "cell_type": "markdown",
   "metadata": {},
   "source": [
    "# 第704题 - 二分查找\n",
    "\n",
    "![难度：简单](https://img.shields.io/badge/%E9%9A%BE%E5%BA%A6-%E7%AE%80%E5%8D%95-blue)\n",
    "[![来源：LeetCode](https://img.shields.io/badge/来源-LeetCode_No.704-blue)](https://leetcode-cn.com/problems/binary-search)\n",
    "\n",
    "给定一个 `n` 个元素有序的（升序）整型数组 `nums` 和一个目标值 `target` ，写一个函数搜索 `nums` 中的 `target` ，如果目标值存在返回下标，否则返回 `-1` 。\n"
   ]
  },
  {
   "cell_type": "markdown",
   "metadata": {},
   "source": [
    "## 提示\n",
    "\n",
    "1. 你可以假设 `nums` 中所有元素不重复\n",
    "2. $1 \\le n \\le 10000$\n",
    "3. $-9999 \\le \\text{nums[i]} \\le 9999$"
   ]
  },
  {
   "cell_type": "markdown",
   "metadata": {},
   "source": [
    "## 题解"
   ]
  },
  {
   "cell_type": "code",
   "execution_count": 1,
   "metadata": {},
   "outputs": [],
   "source": [
    "from typing import List\n",
    "\n",
    "\n",
    "class Solution:\n",
    "    def search(self, nums: List[int], target: int) -> int:\n",
    "        left, right = 0, len(nums) - 1\n",
    "        while left <= right:\n",
    "            index = (left + right) // 2\n",
    "            if target == nums[index]:\n",
    "                return index\n",
    "            elif target < nums[index]:\n",
    "                right = index - 1\n",
    "            else:\n",
    "                left = index + 1\n",
    "        return -1"
   ]
  },
  {
   "cell_type": "markdown",
   "metadata": {},
   "source": [
    "## 示例"
   ]
  },
  {
   "cell_type": "code",
   "execution_count": 2,
   "metadata": {},
   "outputs": [
    {
     "name": "stdout",
     "output_type": "stream",
     "text": [
      "4\n",
      "-1\n"
     ]
    }
   ],
   "source": [
    "s = Solution()\n",
    "# 结果应该为 4\n",
    "print(s.search([-1, 0, 3, 5, 9, 12], 9))\n",
    "# 结果应该为 -1\n",
    "print(s.search([-1, 0, 3, 5, 9, 12], 2))"
   ]
  }
 ],
 "metadata": {
  "interpreter": {
   "hash": "42e6892a63f62a13cfede7edc2d0d7d4587d511dd59e5babedf721473c5b82e8"
  },
  "kernelspec": {
   "display_name": "Python 3 (ipykernel)",
   "language": "python",
   "name": "python3"
  },
  "language_info": {
   "codemirror_mode": {
    "name": "ipython",
    "version": 3
   },
   "file_extension": ".py",
   "mimetype": "text/x-python",
   "name": "python",
   "nbconvert_exporter": "python",
   "pygments_lexer": "ipython3",
   "version": "3.7.11"
  },
  "toc": {
   "base_numbering": 1,
   "nav_menu": {},
   "number_sections": false,
   "sideBar": true,
   "skip_h1_title": true,
   "title_cell": "目录",
   "title_sidebar": "目录",
   "toc_cell": true,
   "toc_position": {},
   "toc_section_display": true,
   "toc_window_display": true
  }
 },
 "nbformat": 4,
 "nbformat_minor": 2
}
