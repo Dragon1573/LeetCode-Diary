{
 "cells": [
  {
   "cell_type": "markdown",
   "metadata": {},
   "source": [
    "# 第704题 - 二分查找\n",
    "\n",
    "![难度：简单](https://img.shields.io/badge/%E9%9A%BE%E5%BA%A6-%E7%AE%80%E5%8D%95-blue)\n",
    "[![来源：LeetCode](https://img.shields.io/badge/来源-LeetCode_No.704-blue)](https://leetcode-cn.com/problems/binary-search)\n",
    "\n",
    "给定一个 `n` 个元素有序的（升序）整型数组 `nums` 和一个目标值 `target` ，写一个函数搜索 `nums` 中的 `target` ，如果目标值存在返回下标，否则返回 `-1` 。\n"
   ]
  },
  {
   "cell_type": "markdown",
   "metadata": {},
   "source": [
    "## 提示\n",
    "\n",
    "1. 你可以假设 `nums` 中所有元素不重复\n",
    "2. $1 \\le n \\le 10000$\n",
    "3. $-9999 \\le \\text{nums[i]} \\le 9999$"
   ]
  },
  {
   "cell_type": "markdown",
   "metadata": {},
   "source": [
    "## 题解"
   ]
  },
  {
   "cell_type": "code",
   "execution_count": 1,
   "metadata": {},
   "outputs": [],
   "source": [
    "from typing import List\n",
    "\n",
    "\n",
    "class Solution:\n",
    "    def search(self, nums: List[int], target: int) -> int:\n",
    "        left, right = 0, len(nums) - 1\n",
    "        while left <= right:\n",
    "            index = (left + right) // 2\n",
    "            if target == nums[index]:\n",
    "                return index\n",
    "            elif target < nums[index]:\n",
    "                right = index - 1\n",
    "            else:\n",
    "                left = index + 1\n",
    "        return -1"
   ]
  },
  {
   "cell_type": "markdown",
   "metadata": {},
   "source": [
    "## 示例"
   ]
  },
  {
   "cell_type": "code",
   "execution_count": 2,
   "metadata": {},
   "outputs": [
    {
     "name": "stdout",
     "output_type": "stream",
     "text": [
      "4\n",
      "-1\n"
     ]
    }
   ],
   "source": [
    "s = Solution()\n",
    "# 结果应该为 4\n",
    "print(s.search([-1, 0, 3, 5, 9, 12], 9))\n",
    "# 结果应该为 -1\n",
    "print(s.search([-1, 0, 3, 5, 9, 12], 2))"
   ]
  }
 ],
 "metadata": {
  "interpreter": {
   "hash": "42e6892a63f62a13cfede7edc2d0d7d4587d511dd59e5babedf721473c5b82e8"
  },
  "kernelspec": {
   "display_name": "Python 3.7.11 64-bit ('base': conda)",
   "language": "python",
   "name": "python3"
  },
  "language_info": {
   "codemirror_mode": {
    "name": "ipython",
    "version": 3
   },
   "file_extension": ".py",
   "mimetype": "text/x-python",
   "name": "python",
   "nbconvert_exporter": "python",
   "pygments_lexer": "ipython3",
   "version": "3.7.11"
  },
  "orig_nbformat": 4
 },
 "nbformat": 4,
 "nbformat_minor": 2
}
