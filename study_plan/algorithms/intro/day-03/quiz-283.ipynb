{
 "cells": [
  {
   "cell_type": "markdown",
   "id": "d75a0938",
   "metadata": {
    "toc": true
   },
   "source": [
    "<h1>目录<span class=\"tocSkip\"></span></h1>\n",
    "<div class=\"toc\"><ul class=\"toc-item\"><li><span><a href=\"#说明\" data-toc-modified-id=\"说明-1\">说明</a></span></li><li><span><a href=\"#题解：双指针法\" data-toc-modified-id=\"题解：双指针法-2\">题解：双指针法</a></span></li><li><span><a href=\"#示例\" data-toc-modified-id=\"示例-3\">示例</a></span></li></ul></div>"
   ]
  },
  {
   "cell_type": "markdown",
   "id": "97d0c70a",
   "metadata": {},
   "source": [
    "*****\n",
    "\n",
    "# 第283题 - 移动零\n",
    "\n",
    "![难度：简单](https://img.shields.io/badge/%E9%9A%BE%E5%BA%A6-%E7%AE%80%E5%8D%95-blue)\n",
    "[![来源：LeetCode](https://img.shields.io/badge/来源-LeetCode_No.283-blue)](https://leetcode-cn.com/problems/move-zeroes)\n",
    "\n",
    "给定一个数组 `nums` ，编写一个函数将所有 `0` 移动到数组的末尾，同时保持非零元素的相对顺序。"
   ]
  },
  {
   "cell_type": "markdown",
   "id": "e252ba84",
   "metadata": {},
   "source": [
    "## 说明\n",
    "\n",
    "1. 必须在原数组上操作，不能拷贝额外的数组。\n",
    "2. 尽量减少操作次数。"
   ]
  },
  {
   "cell_type": "markdown",
   "id": "fdb305e6",
   "metadata": {},
   "source": [
    "## 题解：双指针法"
   ]
  },
  {
   "cell_type": "code",
   "execution_count": 1,
   "id": "04fcd896",
   "metadata": {
    "ExecuteTime": {
     "end_time": "2021-12-31T02:15:46.697562Z",
     "start_time": "2021-12-31T02:15:46.679562Z"
    }
   },
   "outputs": [],
   "source": [
    "from typing import List\n",
    "\n",
    "\n",
    "class Solution:\n",
    "    def moveZeroes(self, nums: List[int]) -> None:\n",
    "        n = len(nums)\n",
    "        p, q = 0, 1\n",
    "        # 边界条件，两个指针都不应超过数组长度\n",
    "        while p < n and q < n:\n",
    "            if nums[p] == 0 and nums[q] != 0 and p < q:\n",
    "                # 左指针为零且右指针非零时，交换两个指针\n",
    "                nums[p], nums[q] = nums[q], nums[p]\n",
    "            if nums[p] != 0:\n",
    "                # 左指针非零时，直接后移\n",
    "                # 官方答案在左指针已经非零的情况下仍会进行原位交换\n",
    "                p += 1\n",
    "            if nums[q] == 0 or p > q:\n",
    "                # 右指针为零或指针顺序相反时，直接右移（保证双指针相对位置）\n",
    "                q += 1"
   ]
  },
  {
   "cell_type": "markdown",
   "id": "eaa9b498",
   "metadata": {},
   "source": [
    "## 示例"
   ]
  },
  {
   "cell_type": "code",
   "execution_count": 2,
   "id": "5880f21d",
   "metadata": {
    "ExecuteTime": {
     "end_time": "2021-12-31T02:16:46.423798Z",
     "start_time": "2021-12-31T02:16:46.401818Z"
    }
   },
   "outputs": [
    {
     "data": {
      "text/plain": [
       "[1, 3, 12, 0, 0]"
      ]
     },
     "execution_count": 2,
     "metadata": {},
     "output_type": "execute_result"
    }
   ],
   "source": [
    "s = Solution()\n",
    "nums = [0, 1, 0, 3, 12]\n",
    "s.moveZeroes(nums)\n",
    "nums"
   ]
  },
  {
   "cell_type": "code",
   "execution_count": 3,
   "id": "dd75d8cd",
   "metadata": {
    "ExecuteTime": {
     "end_time": "2021-12-31T02:17:47.087269Z",
     "start_time": "2021-12-31T02:17:47.065268Z"
    }
   },
   "outputs": [
    {
     "data": {
      "text/plain": [
       "[4, 2, 4, 3, 5, 1, 0, 0, 0, 0]"
      ]
     },
     "execution_count": 3,
     "metadata": {},
     "output_type": "execute_result"
    }
   ],
   "source": [
    "s = Solution()\n",
    "nums = [4, 2, 4, 0, 0, 3, 0, 5, 1, 0]\n",
    "s.moveZeroes(nums)\n",
    "nums"
   ]
  }
 ],
 "metadata": {
  "kernelspec": {
   "display_name": "Python 3 (ipykernel)",
   "language": "python",
   "name": "python3"
  },
  "language_info": {
   "codemirror_mode": {
    "name": "ipython",
    "version": 3
   },
   "file_extension": ".py",
   "mimetype": "text/x-python",
   "name": "python",
   "nbconvert_exporter": "python",
   "pygments_lexer": "ipython3",
   "version": "3.7.11"
  },
  "toc": {
   "base_numbering": 1,
   "nav_menu": {},
   "number_sections": false,
   "sideBar": true,
   "skip_h1_title": true,
   "title_cell": "目录",
   "title_sidebar": "目录",
   "toc_cell": true,
   "toc_position": {},
   "toc_section_display": true,
   "toc_window_display": true
  }
 },
 "nbformat": 4,
 "nbformat_minor": 5
}
