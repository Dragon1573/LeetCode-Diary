{
 "cells": [
  {
   "cell_type": "markdown",
   "id": "e87ac1df",
   "metadata": {
    "toc": true
   },
   "source": [
    "<h1>目录<span class=\"tocSkip\"></span></h1>\n",
    "<div class=\"toc\"><ul class=\"toc-item\"><li><span><a href=\"#提示\" data-toc-modified-id=\"提示-1\">提示</a></span></li><li><span><a href=\"#题解（双指针扫描法）\" data-toc-modified-id=\"题解（双指针扫描法）-2\">题解（双指针扫描法）</a></span></li><li><span><a href=\"#示例\" data-toc-modified-id=\"示例-3\">示例</a></span></li></ul></div>"
   ]
  },
  {
   "cell_type": "markdown",
   "id": "41badc97",
   "metadata": {},
   "source": [
    "*****\n",
    "\n",
    "# 第167题 - 两数之和Ⅱ：输入有序数组\n",
    "\n",
    "![难度：简单](https://img.shields.io/badge/难度-简单-blue)\n",
    "[![来源：LeetCode](https://img.shields.io/badge/来源-LeetCode_No.283-blue)](https://leetcode-cn.com/problems/two-sum-ii-input-array-is-sorted)\n",
    "\n",
    "给定一个已按照 **非递减顺序排列** 的整数数组 `numbers` ，请你从数组中找出两个数满足相加之和等于目标数 `target` 。\n",
    "\n",
    "函数应该以长度为 $2$ 的整数数组的形式返回这两个数的下标值。numbers 的下标 **从 $1$ 开始计数** ，所以答案数组应当满足 `1 <= answer[0] < answer[1] <= numbers.length` 。\n",
    "\n",
    "你可以假设每个输入 **只对应唯一的答案** ，而且你 **不可以** 重复使用相同的元素。"
   ]
  },
  {
   "cell_type": "markdown",
   "id": "702d9c8a",
   "metadata": {},
   "source": [
    "## 提示\n",
    "\n",
    "- $2 \\le \\text{numbers.length} \\le 3 \\times 10^4$\n",
    "- $-1000 \\le \\text{numbers[i]} \\le 1000$\n",
    "- `numbers` 按 **非递减顺序** 排列\n",
    "- $-1000 \\le target \\le 1000$\n",
    "- **仅存在一个有效答案**"
   ]
  },
  {
   "cell_type": "markdown",
   "id": "c8269003",
   "metadata": {},
   "source": [
    "## 题解（双指针扫描法）"
   ]
  },
  {
   "cell_type": "code",
   "execution_count": 1,
   "id": "a1ce1a52",
   "metadata": {
    "ExecuteTime": {
     "end_time": "2021-12-31T04:02:28.016048Z",
     "start_time": "2021-12-31T04:02:28.000048Z"
    }
   },
   "outputs": [],
   "source": [
    "from typing import List\n",
    "\n",
    "\n",
    "class Solution:\n",
    "    def twoSum(self, numbers: List[int], target: int) -> List[int]:\n",
    "        left, right = 0, len(numbers) - 1\n",
    "        while left < right:\n",
    "            summary = numbers[left] + numbers[right]\n",
    "            if summary > target:\n",
    "                right -= 1\n",
    "            elif summary < target:\n",
    "                left += 1\n",
    "            else:\n",
    "                break\n",
    "        return [left + 1, right + 1]"
   ]
  },
  {
   "cell_type": "markdown",
   "id": "4e28591e",
   "metadata": {},
   "source": [
    "## 示例"
   ]
  },
  {
   "cell_type": "code",
   "execution_count": 2,
   "id": "4a559359",
   "metadata": {
    "ExecuteTime": {
     "end_time": "2021-12-31T04:03:34.514654Z",
     "start_time": "2021-12-31T04:03:34.494624Z"
    }
   },
   "outputs": [
    {
     "data": {
      "text/plain": [
       "[1, 2]"
      ]
     },
     "execution_count": 2,
     "metadata": {},
     "output_type": "execute_result"
    }
   ],
   "source": [
    "s = Solution()\n",
    "numbers, target = [2, 7, 11, 15], 9\n",
    "s.twoSum(numbers, target)"
   ]
  },
  {
   "cell_type": "code",
   "execution_count": 3,
   "id": "f4234536",
   "metadata": {
    "ExecuteTime": {
     "end_time": "2021-12-31T04:04:04.928267Z",
     "start_time": "2021-12-31T04:04:04.920235Z"
    }
   },
   "outputs": [
    {
     "data": {
      "text/plain": [
       "[1, 3]"
      ]
     },
     "execution_count": 3,
     "metadata": {},
     "output_type": "execute_result"
    }
   ],
   "source": [
    "s = Solution()\n",
    "numbers, target = [2, 3, 4], 6\n",
    "s.twoSum(numbers, target)"
   ]
  },
  {
   "cell_type": "code",
   "execution_count": 4,
   "id": "76d47e69",
   "metadata": {
    "ExecuteTime": {
     "end_time": "2021-12-31T04:04:23.878301Z",
     "start_time": "2021-12-31T04:04:23.860296Z"
    }
   },
   "outputs": [
    {
     "data": {
      "text/plain": [
       "[1, 2]"
      ]
     },
     "execution_count": 4,
     "metadata": {},
     "output_type": "execute_result"
    }
   ],
   "source": [
    "s = Solution()\n",
    "numbers, target = [-1, 0], -1\n",
    "s.twoSum(numbers, target)"
   ]
  }
 ],
 "metadata": {
  "kernelspec": {
   "display_name": "Python 3 (ipykernel)",
   "language": "python",
   "name": "python3"
  },
  "language_info": {
   "codemirror_mode": {
    "name": "ipython",
    "version": 3
   },
   "file_extension": ".py",
   "mimetype": "text/x-python",
   "name": "python",
   "nbconvert_exporter": "python",
   "pygments_lexer": "ipython3",
   "version": "3.7.11"
  },
  "toc": {
   "base_numbering": 1,
   "nav_menu": {},
   "number_sections": false,
   "sideBar": true,
   "skip_h1_title": true,
   "title_cell": "目录",
   "title_sidebar": "目录",
   "toc_cell": true,
   "toc_position": {},
   "toc_section_display": true,
   "toc_window_display": true
  }
 },
 "nbformat": 4,
 "nbformat_minor": 5
}
