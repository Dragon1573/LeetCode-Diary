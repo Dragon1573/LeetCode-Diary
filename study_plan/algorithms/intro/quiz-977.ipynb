{
 "cells": [
  {
   "cell_type": "markdown",
   "id": "fc0d8b70",
   "metadata": {
    "toc": true
   },
   "source": [
    "<h1>目录<span class=\"tocSkip\"></span></h1>\n",
    "<div class=\"toc\"><ul class=\"toc-item\"><li><span><a href=\"#提示\" data-toc-modified-id=\"提示-1\">提示</a></span></li><li><span><a href=\"#进阶\" data-toc-modified-id=\"进阶-2\">进阶</a></span></li><li><span><a href=\"#【解法一】使用内置排序算法\" data-toc-modified-id=\"【解法一】使用内置排序算法-3\">【解法一】使用内置排序算法</a></span><ul class=\"toc-item\"><li><span><a href=\"#题解\" data-toc-modified-id=\"题解-3.1\">题解</a></span></li><li><span><a href=\"#示例\" data-toc-modified-id=\"示例-3.2\">示例</a></span></li></ul></li><li><span><a href=\"#【解法二】双指针扫描\" data-toc-modified-id=\"【解法二】双指针扫描-4\">【解法二】双指针扫描</a></span><ul class=\"toc-item\"><li><span><a href=\"#题解\" data-toc-modified-id=\"题解-4.1\">题解</a></span></li><li><span><a href=\"#示例\" data-toc-modified-id=\"示例-4.2\">示例</a></span></li></ul></li></ul></div>"
   ]
  },
  {
   "cell_type": "markdown",
   "id": "ff909b20",
   "metadata": {},
   "source": [
    "*****\n",
    "\n",
    "# 第977题 - 有序数组的平方\n",
    "\n",
    "![难度：简单](https://img.shields.io/badge/%E9%9A%BE%E5%BA%A6-%E7%AE%80%E5%8D%95-blue)\n",
    "[![来源：LeetCode](https://img.shields.io/badge/来源-LeetCode_No.977-blue)](https://leetcode-cn.com/problems/squares-of-a-sorted-array)\n",
    "\n",
    "给你一个按 **非递减顺序** 排序的整数数组 `nums` ，返回 **每个数字的平方** 组成的新数组，要求也按 **非递减顺序** 排序。"
   ]
  },
  {
   "cell_type": "markdown",
   "id": "29c370a6",
   "metadata": {},
   "source": [
    "## 提示\n",
    "\n",
    "- $1 \\le \\text{nums.length} \\le 10^4$\n",
    "- $-10^4 \\le \\text{nums[i]} \\le 10^4$\n",
    "- `nums` 已按 **非递减顺序** 排序"
   ]
  },
  {
   "cell_type": "markdown",
   "id": "88dc3526",
   "metadata": {},
   "source": [
    "## 进阶\n",
    "\n",
    "- 请你设计时间复杂度为 $O(n)$ 的算法解决本问题"
   ]
  },
  {
   "cell_type": "markdown",
   "id": "eecb72a9",
   "metadata": {},
   "source": [
    "## 【解法一】使用内置排序算法\n",
    "\n",
    "Python 内置的 `sorted` 函数使用 TimSort 作为底层实现，时间复杂度为 $O(n \\log n)$ ，空间复杂度 $O(n)$ 。"
   ]
  },
  {
   "cell_type": "markdown",
   "id": "5222b792",
   "metadata": {},
   "source": [
    "### 题解"
   ]
  },
  {
   "cell_type": "code",
   "execution_count": 1,
   "id": "73c3e718",
   "metadata": {
    "ExecuteTime": {
     "end_time": "2021-12-30T07:17:13.558580Z",
     "start_time": "2021-12-30T07:17:13.549552Z"
    }
   },
   "outputs": [],
   "source": [
    "from typing import List\n",
    "\n",
    "\n",
    "class Solution:\n",
    "    def sortedSquares(self, nums: List[int]) -> List[int]:\n",
    "        return sorted(_**2 for _ in nums)"
   ]
  },
  {
   "cell_type": "markdown",
   "id": "e6b912b6",
   "metadata": {},
   "source": [
    "### 示例"
   ]
  },
  {
   "cell_type": "code",
   "execution_count": 2,
   "id": "4c5d9f53",
   "metadata": {
    "ExecuteTime": {
     "end_time": "2021-12-30T07:17:13.654568Z",
     "start_time": "2021-12-30T07:17:13.629552Z"
    }
   },
   "outputs": [
    {
     "data": {
      "text/plain": [
       "[0, 1, 9, 16, 100]"
      ]
     },
     "execution_count": 2,
     "metadata": {},
     "output_type": "execute_result"
    }
   ],
   "source": [
    "s = Solution()\n",
    "nums = [-4, -1, 0, 3, 10]\n",
    "s.sortedSquares(nums)"
   ]
  },
  {
   "cell_type": "code",
   "execution_count": 3,
   "id": "8ccff93d",
   "metadata": {
    "ExecuteTime": {
     "end_time": "2021-12-30T07:17:13.766586Z",
     "start_time": "2021-12-30T07:17:13.657551Z"
    }
   },
   "outputs": [
    {
     "data": {
      "text/plain": [
       "[4, 9, 9, 49, 121]"
      ]
     },
     "execution_count": 3,
     "metadata": {},
     "output_type": "execute_result"
    }
   ],
   "source": [
    "nums = [-7, -3, 2, 3, 11]\n",
    "s.sortedSquares(nums)"
   ]
  },
  {
   "cell_type": "markdown",
   "id": "c3988706",
   "metadata": {},
   "source": [
    "## 【解法二】双指针扫描\n",
    "\n",
    "由于原始数组是非降序排列的，因此各元素平方后的值会呈现两侧大中间小的现象。使用双指针从两侧向中间扫描能有效地降低时间复杂度。\n",
    "\n",
    "双指针解法的时间复杂度为 $O(n)$ 。"
   ]
  },
  {
   "cell_type": "markdown",
   "id": "dc946cd8",
   "metadata": {},
   "source": [
    "### 题解"
   ]
  },
  {
   "cell_type": "code",
   "execution_count": 4,
   "id": "ebaeaef2",
   "metadata": {
    "ExecuteTime": {
     "end_time": "2021-12-30T07:17:13.892575Z",
     "start_time": "2021-12-30T07:17:13.801554Z"
    }
   },
   "outputs": [],
   "source": [
    "class Solution:\n",
    "    def sortedSquares(self, nums: List[int]) -> List[int]:\n",
    "        n = len(nums)\n",
    "        i, j, k = 0, n - 1, n - 1\n",
    "        ans = [-1] * n\n",
    "        while i <= j:\n",
    "            left, right = nums[i]**2, nums[j]**2\n",
    "            if left > right:\n",
    "                ans[k] = left\n",
    "                i += 1\n",
    "            else:\n",
    "                ans[k] = right\n",
    "                j -= 1\n",
    "            k -= 1\n",
    "        return ans"
   ]
  },
  {
   "cell_type": "markdown",
   "id": "0a79014c",
   "metadata": {},
   "source": [
    "### 示例"
   ]
  },
  {
   "cell_type": "code",
   "execution_count": 5,
   "id": "7238a220",
   "metadata": {
    "ExecuteTime": {
     "end_time": "2021-12-30T07:17:14.004567Z",
     "start_time": "2021-12-30T07:17:13.895554Z"
    }
   },
   "outputs": [
    {
     "data": {
      "text/plain": [
       "[0, 1, 9, 16, 100]"
      ]
     },
     "execution_count": 5,
     "metadata": {},
     "output_type": "execute_result"
    }
   ],
   "source": [
    "s = Solution()\n",
    "nums = [-4, -1, 0, 3, 10]\n",
    "s.sortedSquares(nums)"
   ]
  },
  {
   "cell_type": "code",
   "execution_count": 6,
   "id": "cf4292aa",
   "metadata": {
    "ExecuteTime": {
     "end_time": "2021-12-30T07:17:14.081565Z",
     "start_time": "2021-12-30T07:17:14.006561Z"
    }
   },
   "outputs": [
    {
     "data": {
      "text/plain": [
       "[4, 9, 9, 49, 121]"
      ]
     },
     "execution_count": 6,
     "metadata": {},
     "output_type": "execute_result"
    }
   ],
   "source": [
    "nums = [-7, -3, 2, 3, 11]\n",
    "s.sortedSquares(nums)"
   ]
  }
 ],
 "metadata": {
  "kernelspec": {
   "display_name": "Python 3 (ipykernel)",
   "language": "python",
   "name": "python3"
  },
  "language_info": {
   "codemirror_mode": {
    "name": "ipython",
    "version": 3
   },
   "file_extension": ".py",
   "mimetype": "text/x-python",
   "name": "python",
   "nbconvert_exporter": "python",
   "pygments_lexer": "ipython3",
   "version": "3.7.11"
  },
  "toc": {
   "base_numbering": 1,
   "nav_menu": {},
   "number_sections": false,
   "sideBar": true,
   "skip_h1_title": true,
   "title_cell": "目录",
   "title_sidebar": "目录",
   "toc_cell": true,
   "toc_position": {},
   "toc_section_display": true,
   "toc_window_display": true
  }
 },
 "nbformat": 4,
 "nbformat_minor": 5
}
